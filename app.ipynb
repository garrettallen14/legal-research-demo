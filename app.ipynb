{
 "cells": [
  {
   "cell_type": "code",
   "execution_count": 1,
   "metadata": {},
   "outputs": [],
   "source": [
    "import os\n",
    "from dotenv import load_dotenv\n",
    "\n",
    "from langchain.chat_models import ChatOpenAI\n",
    "from langchain.prompts import ChatPromptTemplate\n",
    "\n",
    "import requests\n",
    "import dl_google_cl\n",
    "import json\n",
    "\n",
    "import time"
   ]
  },
  {
   "cell_type": "code",
   "execution_count": 2,
   "metadata": {},
   "outputs": [],
   "source": [
    "load_dotenv()\n",
    "openai_api_key = os.getenv(\"OPENAI_API_KEY\")\n",
    "if openai_api_key is None:\n",
    "    raise ValueError(\"OpenAI API key not found. Please check your .env file.\")\n",
    "\n",
    "llm = ChatOpenAI(model=\"gpt-3.5-turbo-1106\", temperature=0, api_key=openai_api_key)\n",
    "llm_4 = ChatOpenAI(model=\"gpt-4-1106-preview\", temperature=0, api_key=openai_api_key)"
   ]
  },
  {
   "cell_type": "code",
   "execution_count": 3,
   "metadata": {},
   "outputs": [
    {
     "name": "stdout",
     "output_type": "stream",
     "text": [
      "Full API Response: {'count': 10, 'next': None, 'previous': None, 'results': [{'id': 'd-15375923031', 'username': 'zeobvnhf', 'password': '9djpunuob54a', 'proxy_address': '38.154.227.167', 'port': 5868, 'valid': True, 'last_verification': '2023-12-31T12:04:37.801007-08:00', 'country_code': 'US', 'city_name': 'Piscataway', 'asn_name': 'Server-Mania', 'asn_number': 55286, 'high_country_confidence': True, 'created_at': '2023-09-25T14:16:00.284955-07:00'}, {'id': 'd-782270686', 'username': 'zeobvnhf', 'password': '9djpunuob54a', 'proxy_address': '185.199.229.156', 'port': 7492, 'valid': True, 'last_verification': '2023-12-31T12:05:02.165795-08:00', 'country_code': 'ES', 'city_name': 'Madrid', 'asn_name': 'Cafe Tecnologia Llc', 'asn_number': 205993, 'high_country_confidence': True, 'created_at': '2022-10-08T17:21:18.335739-07:00'}, {'id': 'd-715009785', 'username': 'zeobvnhf', 'password': '9djpunuob54a', 'proxy_address': '185.199.228.220', 'port': 7300, 'valid': True, 'last_verification': '2023-12-31T12:04:02.970147-08:00', 'country_code': 'ES', 'city_name': 'Las Rozas De Madrid', 'asn_name': 'Cafe Tecnologia Llc', 'asn_number': 205993, 'high_country_confidence': True, 'created_at': '2022-08-16T11:22:03.306482-07:00'}, {'id': 'd-715009786', 'username': 'zeobvnhf', 'password': '9djpunuob54a', 'proxy_address': '185.199.231.45', 'port': 8382, 'valid': True, 'last_verification': '2023-12-31T12:05:35.094883-08:00', 'country_code': 'ES', 'city_name': 'Madrid', 'asn_name': 'Cafe Tecnologia Llc', 'asn_number': 205993, 'high_country_confidence': True, 'created_at': '2022-08-16T11:22:03.306482-07:00'}, {'id': 'd-786570550', 'username': 'zeobvnhf', 'password': '9djpunuob54a', 'proxy_address': '188.74.210.207', 'port': 6286, 'valid': True, 'last_verification': '2023-12-31T12:05:35.170750-08:00', 'country_code': 'IT', 'city_name': 'Strada', 'asn_name': 'Sc Aside Mcd Srl', 'asn_number': 207743, 'high_country_confidence': True, 'created_at': '2022-10-12T06:03:47.268474-07:00'}, {'id': 'd-788346827', 'username': 'zeobvnhf', 'password': '9djpunuob54a', 'proxy_address': '188.74.183.10', 'port': 8279, 'valid': True, 'last_verification': '2023-12-31T12:05:20.165903-08:00', 'country_code': 'IT', 'city_name': 'Strada', 'asn_name': 'Sc Aside Mcd Srl', 'asn_number': 207743, 'high_country_confidence': True, 'created_at': '2022-10-13T17:36:06.399382-07:00'}, {'id': 'd-790788207', 'username': 'zeobvnhf', 'password': '9djpunuob54a', 'proxy_address': '188.74.210.21', 'port': 6100, 'valid': True, 'last_verification': '2023-12-31T12:05:14.155806-08:00', 'country_code': 'IT', 'city_name': 'Strada', 'asn_name': 'Sc Aside Mcd Srl', 'asn_number': 207743, 'high_country_confidence': True, 'created_at': '2022-10-15T19:43:03.176327-07:00'}, {'id': 'd-791352933', 'username': 'zeobvnhf', 'password': '9djpunuob54a', 'proxy_address': '45.155.68.129', 'port': 8133, 'valid': True, 'last_verification': '2023-12-31T12:05:42.936226-08:00', 'country_code': 'NL', 'city_name': 'Haarlem', 'asn_name': 'Leaseweb Netherlands B.V.', 'asn_number': 60781, 'high_country_confidence': True, 'created_at': '2022-10-16T07:51:11.729889-07:00'}, {'id': 'd-792703565', 'username': 'zeobvnhf', 'password': '9djpunuob54a', 'proxy_address': '154.95.36.199', 'port': 6893, 'valid': True, 'last_verification': '2023-12-31T12:05:31.690048-08:00', 'country_code': 'ES', 'city_name': 'Madrid', 'asn_name': 'M247 Europe Srl', 'asn_number': 9009, 'high_country_confidence': True, 'created_at': '2022-10-17T12:24:57.071829-07:00'}, {'id': 'd-795974692', 'username': 'zeobvnhf', 'password': '9djpunuob54a', 'proxy_address': '45.94.47.66', 'port': 8110, 'valid': True, 'last_verification': '2023-12-31T12:04:24.370518-08:00', 'country_code': 'NL', 'city_name': 'Victoria', 'asn_name': 'Leaseweb Netherlands B.V.', 'asn_number': 60781, 'high_country_confidence': False, 'created_at': '2022-10-20T06:29:23.910490-07:00'}]}\n",
      "0\n",
      "Case: MATTER OF CUNNINGHAM v. New York State D ...\n",
      "Num new links: 15\n"
     ]
    }
   ],
   "source": [
    "session = requests.Session()\n",
    "session.headers.update({'User-Agent': 'Mozilla/5.0 (Windows NT 10.0; Win64; x64) AppleWebKit/537.36 (KHTML, like Gecko) Chrome/58.0.3029.110 Safari/537.3'})\n",
    "\n",
    "proxies = dl_google_cl.get_proxies('direct')\n",
    "\n",
    "url = 'https://scholar.google.com/scholar_case?case=16629036189640273971&q=michael+a+cunningham+v+new+york&hl=en&as_sdt=2006'\n",
    "case1, links, soup = dl_google_cl.get_text_links(url=url, proxies=proxies, session=session)\n",
    "new_links = dl_google_cl.parse_links(links)\n",
    "print(\"Case:\", case1[:40], \"...\")\n",
    "print(\"Num new links:\", len(new_links))"
   ]
  },
  {
   "cell_type": "code",
   "execution_count": 30,
   "metadata": {},
   "outputs": [],
   "source": [
    "with open(\"./json-files/prompts.json\", 'r') as file:\n",
    "    prompts_data = json.load(file)\n",
    "\n",
    "with open(\"./json-files/variables.json\", 'r') as file:\n",
    "    variables_data = json.load(file)\n",
    "\n",
    "summary_prompt = ChatPromptTemplate.from_template(str(prompts_data['summary']))\n",
    "summary_llm = summary_prompt | llm\n",
    "\n",
    "top_citations_prompt = ChatPromptTemplate.from_template(str(prompts_data['top_citations']))\n",
    "top_citations_llm = top_citations_prompt | llm_4\n",
    "\n",
    "best_next_case_prompt = ChatPromptTemplate.from_template(str(prompts_data['best_next_case']))\n",
    "best_next_case_llm = best_next_case_prompt | llm\n",
    "\n",
    "synthesis_prompt = ChatPromptTemplate.from_template(str(prompts_data['synthesis']))\n",
    "synthesis_llm = synthesis_prompt | llm_4\n",
    "\n",
    "decision_prompt = ChatPromptTemplate.from_template(str(prompts_data['decide_if_relevant']))\n",
    "decision_llm = decision_prompt | llm"
   ]
  },
  {
   "cell_type": "markdown",
   "metadata": {},
   "source": [
    "NAIVE APPROACH:"
   ]
  },
  {
   "cell_type": "code",
   "execution_count": null,
   "metadata": {},
   "outputs": [],
   "source": [
    "summaries_list = []\n",
    "citations_list = []\n",
    "\n",
    "for i in range(5):\n",
    "    print(\"Summarizing\", i)\n",
    "    print(\"Case length in tokens (char/4):\", len(case1)/4)\n",
    "    # Summarize case, add to summaries_list\n",
    "    summary = summary_llm.invoke({\n",
    "        \"background\": variables_data['background'],\n",
    "        \"issue\": variables_data['issue'],\n",
    "        \"case\": case1\n",
    "    }).content\n",
    "    summaries_list.append(summary)\n",
    "\n",
    "    print(\"Finding citations\")\n",
    "    # Look at backwards citations, add them to list\n",
    "    top_citations = top_citations_llm.invoke({\n",
    "        \"background\": variables_data['background'],\n",
    "        \"issue\": variables_data['issue'],\n",
    "        \"case\": case1\n",
    "    }).content\n",
    "    citations_list.append(top_citations)\n",
    "\n",
    "    # Decide best next citation\n",
    "    best_next = best_next_case_llm.invoke({\n",
    "        \"background\": variables_data['background'],\n",
    "        \"issue\": variables_data['issue'],\n",
    "        \"case\": top_citations\n",
    "    }).content\n",
    "\n",
    "    url = dl_google_cl.get_citation_url(best_next, soup)\n",
    "    print(best_next, url)\n",
    "    if len(url) <= len('https://scholar.google.com/'):\n",
    "        break\n",
    "    case1, _, soup = dl_google_cl.get_text_links(url=url, proxies=proxies, session=session)\n",
    "\n",
    "synthesis = synthesis_llm.invoke({\n",
    "        \"background\": variables_data['background'],\n",
    "        \"issue\": variables_data['issue'],\n",
    "        \"summaries\": summaries_list\n",
    "}).content"
   ]
  },
  {
   "cell_type": "code",
   "execution_count": 5,
   "metadata": {},
   "outputs": [],
   "source": [
    "def count_case_appearances(input_list):\n",
    "    # Flatten the list of lists\n",
    "    flat_list = [item for sublist in input_list for item in sublist]\n",
    "\n",
    "    # Count appearances and store one link per case using a dictionary\n",
    "    count_dict = {}\n",
    "    for case, link in flat_list:\n",
    "        if case in count_dict:\n",
    "            # Increment the count, keep the existing link\n",
    "            count, _ = count_dict[case]\n",
    "            count_dict[case] = (count + 1, link)\n",
    "        else:\n",
    "            # New case, set count to 1 and store the link\n",
    "            count_dict[case] = (1, link)\n",
    "\n",
    "    # Create a list of tuples (case, link, count) from the dictionary\n",
    "    counted_list = [(case, link, count) for case, (count, link) in count_dict.items()]\n",
    "\n",
    "    # Sort the list based on the count in descending order\n",
    "    sorted_counted_list = sorted(counted_list, key=lambda x: x[2], reverse=True)\n",
    "\n",
    "    return sorted_counted_list"
   ]
  },
  {
   "cell_type": "markdown",
   "metadata": {},
   "source": [
    "BETTER APPROACH:\n",
    "\n",
    "Step 1: Generate relevant QUERIES (need to implement)\n",
    "\n",
    "Step 2: Search + add all cases to a list of results\n",
    "\n",
    "Step 3: Rank the cases by number of appearances in results for different QUERIES\n",
    "\n",
    "Step 4: Decide whether or not they are worth truly researching"
   ]
  },
  {
   "cell_type": "code",
   "execution_count": 6,
   "metadata": {},
   "outputs": [],
   "source": [
    "queries = ['Case law on warrant expiration in police surveillance',\n",
    "'GPS tracking and admissibility of evidence',\n",
    "'Fourth Amendment and warrantless surveillance',\n",
    "'Exclusionary rule in cases of expired warrants',\n",
    "'Precedents on police tracking after warrant expiration',\n",
    "'Search and seizure cases involving expired warrants']"
   ]
  },
  {
   "cell_type": "code",
   "execution_count": 7,
   "metadata": {},
   "outputs": [
    {
     "name": "stdout",
     "output_type": "stream",
     "text": [
      "1\n",
      "2\n",
      "3\n",
      "4\n",
      "5\n",
      "6\n"
     ]
    }
   ],
   "source": [
    "cases = []\n",
    "\n",
    "for query in queries:\n",
    "    query_url = dl_google_cl.create_link_query(query)\n",
    "    time.sleep(2.5)\n",
    "    potential_cases = dl_google_cl.parse_query_url(query_url,proxies=proxies,session=session)\n",
    "    cases.append(potential_cases)"
   ]
  },
  {
   "cell_type": "code",
   "execution_count": 8,
   "metadata": {},
   "outputs": [],
   "source": [
    "sorted_cases = count_case_appearances(cases)"
   ]
  },
  {
   "cell_type": "code",
   "execution_count": 32,
   "metadata": {},
   "outputs": [
    {
     "name": "stdout",
     "output_type": "stream",
     "text": [
      "9\n",
      "content=\"The case of US v. Jones directly pertains to the issue of whether the police should be allowed to use evidence discovered after a warrant has expired. Here's how each side would use the case for their arguments:\\n\\n- The defense would argue that the installation of a GPS tracking device on the vehicle and its use to monitor the vehicle's movements constituted a search under the Fourth Amendment, and therefore, the evidence obtained after the warrant expired should be inadmissible.\\n- The prosecution would argue that the use of the GPS device to monitor the vehicle's movements on public streets did not violate Jones's reasonable expectation of privacy, as the information obtained was voluntarily conveyed to the public.\\n\\nEvery key thought about the case in direct relation to the issue has a direct text citation from the case.\"\n",
      "<RESPONSE:> YES\n",
      "0\n",
      "content=\"- The case of Carpenter v. US directly pertains to the issue at hand because it involves the acquisition of cell-site records by the government, which is the same type of records at issue in the current case.\\n- The side arguing in favor of allowing the police to use evidence discovered after a warrant expired would use the Carpenter case to support their argument by highlighting the government's need to access cell-site records in order to investigate and prevent ongoing criminal activity.\\n- The opposing side, arguing against allowing the police to use evidence discovered after a warrant expired, would use the Carpenter case to support their argument by emphasizing the potential invasion of privacy and the need for a warrant to obtain cell-site records.\"\n",
      "<RESPONSE:> YES\n",
      "1\n",
      "content='The case of Katz v. United States directly pertains to the issue at hand because it addresses the use of electronic surveillance to obtain evidence. \\n\\n- The defense could use this case to argue that the surveillance of Thompson after the warrant expired violated his Fourth Amendment rights to privacy.\\n- The prosecution could argue that the surveillance was justified based on the strong probability of criminal activity and the limited scope and duration of the surveillance.\\n\\nDirect Text Citation: \"The Government\\'s activities in electronically listening to and recording the petitioner\\'s words violated the privacy upon which he justifiably relied while using the telephone booth and thus constituted a \\'search and seizure\\' within the meaning of the Fourth Amendment.\"'\n",
      "<RESPONSE:> YES\n",
      "2\n",
      "content='- The case of Pennsylvania v. Mimms directly pertains to the issue as it addresses the Fourth Amendment and the reasonableness of police actions in a traffic stop.\\n- The prosecution would use this case to argue that the police action of ordering the driver out of the car was reasonable and necessary for officer safety, as established in Terry v. Ohio.\\n- The defense would use this case to argue that the search and seizure of the revolver violated the Fourth Amendment, as the initial stop for a traffic violation did not justify the additional intrusion of ordering the driver out of the car.\\n- The case directly supports the argument for both sides in relation to the issue of whether evidence discovered after a warrant expired should be admissible.'\n",
      "<RESPONSE:> YES\n",
      "3\n",
      "content='The case of Sibron v. New York directly pertains to the issue at hand because it involves the search and seizure of evidence by police officers. This is relevant to the current issue of whether the police should be allowed to use evidence discovered after a warrant has expired.\\n\\n- The side arguing in favor of allowing the evidence to be used would use this case to support their argument by pointing to the \"stop-and-frisk\" law in New York, which was held to have authorized the searches in this case.\\n- On the other hand, the side arguing against allowing the evidence to be used would use this case to highlight the violations of the Fourth Amendment rights of the defendants, as well as the inconsistencies in the officer\\'s testimony and the lack of probable cause for the search.\\n\\nDirect Text Citation: Sibron v. New York, 392 US 40 - Supreme Court 1968'\n",
      "<RESPONSE:> YES\n",
      "4\n",
      "content='The United States v. Karo case directly pertains to the ISSUE of whether the police should be allowed to use evidence discovered after a warrant expired. Here\\'s how each side of the ISSUE would use the CASE for their arguments:\\n\\n- The position in favor of allowing the use of evidence would argue that the installation of a beeper in a private residence without a warrant violates the Fourth Amendment rights of those with a justifiable interest in the privacy of the residence.\\n- On the other hand, the opposing position would argue that the actual placement of the beeper into the container did not violate anyone\\'s Fourth Amendment rights and that the monitoring of the beeper was the actual invasion of privacy.\\n\\nDirect Text Citations:\\n- \"In this case, had a DEA agent thought it use\"\\n- \"Contrary to the submission of the United States, we think that it does.\"\\n- \"At the risk of belaboring the obvious, private residences are places in which the individual normally expects privacy free of governmental intrusion not authorized by a warrant\"'\n",
      "<RESPONSE:> YES\n",
      "5\n",
      "content='The case of Herring v. US directly pertains to the issue at hand as it deals with a Fourth Amendment violation and the application of the exclusionary rule. \\n\\n- The side arguing in favor of allowing the evidence obtained after the warrant expired would use this case to support their argument by highlighting that the error leading to the unlawful search was the result of isolated negligence, rather than deliberate or reckless conduct. \\n- On the other hand, the side arguing against allowing the evidence would use this case to support their argument by emphasizing that the exclusionary rule should apply when police conduct is sufficiently deliberate and culpable, and that the error in this case was not so objectively culpable as to require exclusion.\\n\\nEvery key thought about the case in direct relation to the issue has a direct text citation.'\n",
      "<RESPONSE:> YES\n",
      "6\n",
      "content='- The case of Riley v. California directly pertains to the ISSUE as it addresses the question of whether the police may, without a warrant, search digital information on a cell phone seized from an individual who has been arrested.\\n- The side arguing in favor of allowing the police to use evidence discovered after a warrant expired would use this case to support their argument by highlighting the need for law enforcement to have access to digital information on cell phones in order to combat crime effectively.\\n- On the other hand, the side arguing against allowing the police to use evidence discovered after a warrant expired would use this case to support their argument by emphasizing the privacy interests at stake and the need for a warrant to search digital information on cell phones.\\n- The decision in Riley v. California, 573 US 373, Supreme Court 2014, supports the requirement for a warrant to search digital information on a cell phone seized from an individual who has been arrested.'\n",
      "<RESPONSE:> YES\n",
      "7\n",
      "content=\"The County of Riverside v. McLaughlin case directly pertains to the ISSUE as it deals with the prompt judicial determination of probable cause following a warrantless arrest, which is the central question in the given ISSUE.\\n\\n- The side arguing in favor of allowing the police to use evidence discovered after the warrant expired would use this case to support their argument by highlighting the Court's recognition of the practical compromise between the rights of individuals and the realities of law enforcement, as well as the acknowledgment of the burden that proliferation of pretrial proceedings places on the criminal justice system.\\n- On the other hand, the side arguing against allowing the police to use evidence discovered after the warrant expired would use this case to support their argument by emphasizing the Court's holding that States must provide a fair and reliable determination of probable cause as a condition for any significant pretrial restraint of liberty, and that this determination must be made by a judicial officer either before or promptly after arrest.\\n\\nEvery key thought about the case in direct relation to the ISSUE has a direct text citation.\"\n",
      "<RESPONSE:> YES\n",
      "8\n",
      "content=\"The case of Gerstein v. Pugh directly pertains to the issue at hand. Here's how each side of the issue would use this case for their arguments:\\n\\n- The defense would argue that the case supports the need for a judicial determination of probable cause for pretrial restraint of liberty, as it highlights the importance of protecting individual rights and the need for a neutral and detached magistrate's review of the factual justification prior to any arrest.\\n- The prosecution, on the other hand, would argue that the case supports the practical compromise of allowing a policeman's on-the-scene assessment of probable cause for arresting a person suspected of a crime, and for a brief period of detention to take the administrative steps incident to arrest.\\n\\nEvery key thought about the case in direct relation to the issue has a direct text citation.\"\n",
      "<RESPONSE:> YES\n",
      "9\n",
      "content=\"The case of Delaware v. Prouse directly pertains to the issue at hand in the following ways:\\n\\n- The case addresses the legality of stopping an automobile for a license and registration check without probable cause or reasonable suspicion, which is similar to the situation in the given issue.\\n- Both sides of the issue can use this case to support their arguments. The side arguing against the police's actions can use this case to show that such stops without probable cause or reasonable suspicion are unconstitutional. On the other hand, the side arguing in favor of the police's actions can use this case to argue that the minimal intrusion of a brief stop is justified in the interest of ensuring the safety of roadways.\\n- The case directly addresses the Fourth and Fourteenth Amendments, which are the same constitutional amendments implicated in the given issue.\\n\\nIn summary, Delaware v. Prouse directly pertains to the issue at hand and can be used by both sides of the issue to support their arguments.\"\n",
      "<RESPONSE:> YES\n"
     ]
    }
   ],
   "source": [
    "research_decisions = []\n",
    "\n",
    "t = 0\n",
    "for case in sorted_cases:\n",
    "    if t > 10:\n",
    "        break\n",
    "    t+=1\n",
    "    \n",
    "    prefix = 'https://scholar.google.com'\n",
    "    url = prefix + case[1]\n",
    "    text, _, _ = dl_google_cl.get_text_links(url=url, proxies=proxies, session=session)\n",
    "\n",
    "    time.sleep(5)\n",
    "\n",
    "    initial_look = text[:int(len(text)/4)]\n",
    "\n",
    "    case_summary = summary_llm.invoke({\n",
    "        \"background\": variables_data['background'],\n",
    "        \"case\": initial_look,\n",
    "        \"issue\": variables_data['issue']\n",
    "    })\n",
    "\n",
    "    print(case_summary)\n",
    "\n",
    "    decision = decision_llm.invoke({\n",
    "        \"background\": variables_data['background'],\n",
    "        \"case\": case_summary,\n",
    "        \"issue\": variables_data['issue'],\n",
    "        \"queries\": queries\n",
    "    }).content\n",
    "\n",
    "    print(decision)\n",
    "\n",
    "    while decision != ('YES' or 'NO'):\n",
    "        decision = decision_llm.invoke({\n",
    "            \"background\": variables_data['background'],\n",
    "            \"case\": initial_look,\n",
    "            \"issue\": variables_data['issue'],\n",
    "            \"queries\": queries\n",
    "        }).content\n",
    "        \n",
    "    research_decisions.append([decision, case[0], case[1], case[2]])"
   ]
  },
  {
   "cell_type": "code",
   "execution_count": 34,
   "metadata": {},
   "outputs": [
    {
     "name": "stdout",
     "output_type": "stream",
     "text": [
      "['YES', 'US v. Jones', '/scholar_case?case=3066032366235422373&q=Search+and+seizure+cases+involving+expired+warrants&hl=en&oe=ASCII&as_sdt=6,33', 5]\n",
      "['YES', 'Carpenter v. US', '/scholar_case?case=14655974745807704559&q=Precedents+on+police+tracking+after+warrant+expiration&hl=en&oe=ASCII&as_sdt=6,33', 4]\n",
      "['YES', 'Katz v. United States', '/scholar_case?case=9210492700696416594&q=Precedents+on+police+tracking+after+warrant+expiration&hl=en&oe=ASCII&as_sdt=6,33', 3]\n",
      "['YES', 'Pennsylvania v. Mimms', '/scholar_case?case=16533225265380952768&q=Search+and+seizure+cases+involving+expired+warrants&hl=en&oe=ASCII&as_sdt=6,33', 3]\n",
      "['YES', 'Sibron v. New York', '/scholar_case?case=16128185020980229395&q=Search+and+seizure+cases+involving+expired+warrants&hl=en&oe=ASCII&as_sdt=6,33', 3]\n",
      "['YES', 'United States v. Karo', '/scholar_case?case=495897577064781112&q=Fourth+Amendment+and+warrantless+surveillance&hl=en&oe=ASCII&as_sdt=6,33', 3]\n",
      "['YES', 'Herring v. US', '/scholar_case?case=10573986864908308313&q=Search+and+seizure+cases+involving+expired+warrants&hl=en&oe=ASCII&as_sdt=6,33', 3]\n",
      "['YES', 'Riley v. California', '/scholar_case?case=8132273445572991924&q=Search+and+seizure+cases+involving+expired+warrants&hl=en&oe=ASCII&as_sdt=6,33', 2]\n",
      "['YES', 'Countyof Riverside v. McLaughlin', '/scholar_case?case=418195808368952125&q=Search+and+seizure+cases+involving+expired+warrants&hl=en&oe=ASCII&as_sdt=6,33', 2]\n",
      "['YES', 'Gerstein v. Pugh', '/scholar_case?case=206345582594072284&q=Search+and+seizure+cases+involving+expired+warrants&hl=en&oe=ASCII&as_sdt=6,33', 2]\n",
      "['YES', 'Delaware v. Prouse', '/scholar_case?case=671964346320770416&q=Case+law+on+warrant+expiration+in+police+surveillance&hl=en&oe=ASCII&as_sdt=6,33', 1]\n"
     ]
    }
   ],
   "source": [
    "for i in research_decisions:\n",
    "    print(i)"
   ]
  }
 ],
 "metadata": {
  "kernelspec": {
   "display_name": "Python 3",
   "language": "python",
   "name": "python3"
  },
  "language_info": {
   "codemirror_mode": {
    "name": "ipython",
    "version": 3
   },
   "file_extension": ".py",
   "mimetype": "text/x-python",
   "name": "python",
   "nbconvert_exporter": "python",
   "pygments_lexer": "ipython3",
   "version": "3.10.11"
  }
 },
 "nbformat": 4,
 "nbformat_minor": 2
}
